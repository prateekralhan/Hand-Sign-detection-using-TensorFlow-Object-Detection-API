{
 "cells": [
  {
   "cell_type": "markdown",
   "metadata": {},
   "source": [
    "# Import Dependencies"
   ]
  },
  {
   "cell_type": "code",
   "execution_count": 3,
   "metadata": {},
   "outputs": [
    {
     "name": "stdout",
     "output_type": "stream",
     "text": [
      "Requirement already satisfied: opencv-python in c:\\users\\ralha\\onedrive\\desktop\\iiitb\\tfod\\tfodcourse\\env\\lib\\site-packages (4.5.1.48)\n",
      "Requirement already satisfied: numpy>=1.14.5 in c:\\users\\ralha\\onedrive\\desktop\\iiitb\\tfod\\tfodcourse\\env\\lib\\site-packages (from opencv-python) (1.20.2)\n"
     ]
    }
   ],
   "source": [
    "!pip install opencv-python"
   ]
  },
  {
   "cell_type": "code",
   "execution_count": 1,
   "metadata": {},
   "outputs": [],
   "source": [
    "# Import opencv\n",
    "import cv2 \n",
    "\n",
    "# Import uuid\n",
    "import uuid\n",
    "\n",
    "# Import Operating System\n",
    "import os\n",
    "\n",
    "# Import time\n",
    "import time"
   ]
  },
  {
   "cell_type": "markdown",
   "metadata": {},
   "source": [
    "# Define Images to Collect"
   ]
  },
  {
   "cell_type": "code",
   "execution_count": 2,
   "metadata": {},
   "outputs": [],
   "source": [
    "labels = ['thumbsup', 'thumbsdown', 'thankyou', 'livelong']\n",
    "number_imgs = 5"
   ]
  },
  {
   "cell_type": "markdown",
   "metadata": {},
   "source": [
    "# Setup Folders "
   ]
  },
  {
   "cell_type": "code",
   "execution_count": 3,
   "metadata": {},
   "outputs": [],
   "source": [
    "IMAGES_PATH = os.path.join('Tensorflow', 'workspace', 'images', 'collectedimages')"
   ]
  },
  {
   "cell_type": "code",
   "execution_count": 4,
   "metadata": {},
   "outputs": [],
   "source": [
    "if not os.path.exists(IMAGES_PATH):\n",
    "    if os.name == 'posix':\n",
    "        !mkdir -p {IMAGES_PATH}\n",
    "    if os.name == 'nt':\n",
    "         !mkdir {IMAGES_PATH}\n",
    "for label in labels:\n",
    "    path = os.path.join(IMAGES_PATH, label)\n",
    "    if not os.path.exists(path):\n",
    "        !mkdir {path}"
   ]
  },
  {
   "cell_type": "markdown",
   "metadata": {},
   "source": [
    "# 4. Capture Images"
   ]
  },
  {
   "cell_type": "code",
   "execution_count": 6,
   "metadata": {
    "scrolled": true
   },
   "outputs": [
    {
     "name": "stdout",
     "output_type": "stream",
     "text": [
      "Collecting images for thumbsup\n",
      "Collecting image 0\n",
      "Collecting image 1\n",
      "Collecting image 2\n",
      "Collecting image 3\n",
      "Collecting image 4\n",
      "Collecting images for thumbsdown\n",
      "Collecting image 0\n",
      "Collecting image 1\n",
      "Collecting image 2\n",
      "Collecting image 3\n",
      "Collecting image 4\n",
      "Collecting images for thankyou\n",
      "Collecting image 0\n",
      "Collecting image 1\n",
      "Collecting image 2\n",
      "Collecting image 3\n",
      "Collecting image 4\n",
      "Collecting images for livelong\n",
      "Collecting image 0\n",
      "Collecting image 1\n",
      "Collecting image 2\n",
      "Collecting image 3\n",
      "Collecting image 4\n"
     ]
    }
   ],
   "source": [
    "for label in labels:\n",
    "    cap = cv2.VideoCapture(0)\n",
    "    print('Collecting images for {}'.format(label))\n",
    "    time.sleep(5)\n",
    "    for imgnum in range(number_imgs):\n",
    "        print('Collecting image {}'.format(imgnum))\n",
    "        ret, frame = cap.read()\n",
    "        imgname = os.path.join(IMAGES_PATH,label,label+'.'+'{}.jpg'.format(str(uuid.uuid1())))\n",
    "        cv2.imwrite(imgname, frame)\n",
    "        cv2.imshow('frame', frame)\n",
    "        time.sleep(2)\n",
    "\n",
    "        if cv2.waitKey(1) & 0xFF == ord('q'):\n",
    "            break\n",
    "cap.release()\n",
    "cv2.destroyAllWindows()"
   ]
  },
  {
   "cell_type": "markdown",
   "metadata": {},
   "source": [
    "# 5. Image Labelling"
   ]
  },
  {
   "cell_type": "code",
   "execution_count": 7,
   "metadata": {},
   "outputs": [
    {
     "name": "stdout",
     "output_type": "stream",
     "text": [
      "Requirement already satisfied: pyqt5 in c:\\users\\ralha\\onedrive\\desktop\\iiitb\\tfod\\tfodcourse\\env\\lib\\site-packages (5.15.4)\n",
      "Requirement already satisfied: lxml in c:\\users\\ralha\\onedrive\\desktop\\iiitb\\tfod\\tfodcourse\\env\\lib\\site-packages (4.6.3)\n",
      "Requirement already satisfied: PyQt5-Qt5>=5.15 in c:\\users\\ralha\\onedrive\\desktop\\iiitb\\tfod\\tfodcourse\\env\\lib\\site-packages (from pyqt5) (5.15.2)\n",
      "Requirement already satisfied: PyQt5-sip<13,>=12.8 in c:\\users\\ralha\\onedrive\\desktop\\iiitb\\tfod\\tfodcourse\\env\\lib\\site-packages (from pyqt5) (12.8.1)\n"
     ]
    }
   ],
   "source": [
    "!pip install --upgrade pyqt5 lxml"
   ]
  },
  {
   "cell_type": "code",
   "execution_count": 8,
   "metadata": {},
   "outputs": [],
   "source": [
    "LABELIMG_PATH = os.path.join('Tensorflow', 'labelimg')"
   ]
  },
  {
   "cell_type": "code",
   "execution_count": 9,
   "metadata": {},
   "outputs": [
    {
     "name": "stderr",
     "output_type": "stream",
     "text": [
      "Cloning into 'Tensorflow\\labelimg'...\n"
     ]
    }
   ],
   "source": [
    "if not os.path.exists(LABELIMG_PATH):\n",
    "    !mkdir {LABELIMG_PATH}\n",
    "    !git clone https://github.com/tzutalin/labelImg {LABELIMG_PATH}"
   ]
  },
  {
   "cell_type": "code",
   "execution_count": 10,
   "metadata": {},
   "outputs": [],
   "source": [
    "if os.name == 'posix':\n",
    "    !make qt5py3\n",
    "if os.name =='nt':\n",
    "    !cd {LABELIMG_PATH} && pyrcc5 -o libs/resources.py resources.qrc"
   ]
  },
  {
   "cell_type": "code",
   "execution_count": 11,
   "metadata": {},
   "outputs": [
    {
     "name": "stdout",
     "output_type": "stream",
     "text": [
      "Image:C:\\Users\\ralha\\OneDrive\\Desktop\\IIITB\\TFOD\\TFODCourse\\Tensorflow\\workspace\\images\\collectedimages\\livelong\\livelong.5d27436e-a8f7-11eb-a0c6-48ba4e43290e.jpg -> Annotation:C:/Users/ralha/OneDrive/Desktop/IIITB/TFOD/TFODCourse/Tensorflow/workspace/images/collectedimages/livelong/livelong.5d27436e-a8f7-11eb-a0c6-48ba4e43290e.xml.txt\n",
      "Image:C:\\Users\\ralha\\OneDrive\\Desktop\\IIITB\\TFOD\\TFODCourse\\Tensorflow\\workspace\\images\\collectedimages\\livelong\\livelong.5e650f88-a8f7-11eb-89f3-48ba4e43290e.jpg -> Annotation:C:/Users/ralha/OneDrive/Desktop/IIITB/TFOD/TFODCourse/Tensorflow/workspace/images/collectedimages/livelong/livelong.5e650f88-a8f7-11eb-89f3-48ba4e43290e.xml.txt\n",
      "Image:C:\\Users\\ralha\\OneDrive\\Desktop\\IIITB\\TFOD\\TFODCourse\\Tensorflow\\workspace\\images\\collectedimages\\livelong\\livelong.5f9b6286-a8f7-11eb-b855-48ba4e43290e.jpg -> Annotation:C:/Users/ralha/OneDrive/Desktop/IIITB/TFOD/TFODCourse/Tensorflow/workspace/images/collectedimages/livelong/livelong.5f9b6286-a8f7-11eb-b855-48ba4e43290e.xml.txt\n",
      "Image:C:\\Users\\ralha\\OneDrive\\Desktop\\IIITB\\TFOD\\TFODCourse\\Tensorflow\\workspace\\images\\collectedimages\\livelong\\livelong.60d35576-a8f7-11eb-ab5c-48ba4e43290e.jpg -> Annotation:C:/Users/ralha/OneDrive/Desktop/IIITB/TFOD/TFODCourse/Tensorflow/workspace/images/collectedimages/livelong/livelong.60d35576-a8f7-11eb-ab5c-48ba4e43290e.xml.txt\n",
      "Image:C:\\Users\\ralha\\OneDrive\\Desktop\\IIITB\\TFOD\\TFODCourse\\Tensorflow\\workspace\\images\\collectedimages\\livelong\\livelong.6208f948-a8f7-11eb-ad34-48ba4e43290e.jpg -> Annotation:C:/Users/ralha/OneDrive/Desktop/IIITB/TFOD/TFODCourse/Tensorflow/workspace/images/collectedimages/livelong/livelong.6208f948-a8f7-11eb-ad34-48ba4e43290e.xml.txt\n",
      "Image:C:\\Users\\ralha\\OneDrive\\Desktop\\IIITB\\TFOD\\TFODCourse\\Tensorflow\\workspace\\images\\collectedimages\\livelong\\livelong.a0d3fa5c-a8f7-11eb-9948-48ba4e43290e.jpg -> Annotation:C:/Users/ralha/OneDrive/Desktop/IIITB/TFOD/TFODCourse/Tensorflow/workspace/images/collectedimages/livelong/livelong.a0d3fa5c-a8f7-11eb-9948-48ba4e43290e.xml.txt\n",
      "Image:C:\\Users\\ralha\\OneDrive\\Desktop\\IIITB\\TFOD\\TFODCourse\\Tensorflow\\workspace\\images\\collectedimages\\livelong\\livelong.a33f3e1c-a8f7-11eb-bbff-48ba4e43290e.jpg -> Annotation:C:/Users/ralha/OneDrive/Desktop/IIITB/TFOD/TFODCourse/Tensorflow/workspace/images/collectedimages/livelong/livelong.a33f3e1c-a8f7-11eb-bbff-48ba4e43290e.xml.txt\n",
      "Image:C:\\Users\\ralha\\OneDrive\\Desktop\\IIITB\\TFOD\\TFODCourse\\Tensorflow\\workspace\\images\\collectedimages\\livelong\\livelong.a4751dd4-a8f7-11eb-8758-48ba4e43290e.jpg -> Annotation:C:/Users/ralha/OneDrive/Desktop/IIITB/TFOD/TFODCourse/Tensorflow/workspace/images/collectedimages/livelong/livelong.a4751dd4-a8f7-11eb-8758-48ba4e43290e.xml.txt\n",
      "Image:C:\\Users\\ralha\\OneDrive\\Desktop\\IIITB\\TFOD\\TFODCourse\\Tensorflow\\workspace\\images\\collectedimages\\livelong\\livelong.a20808fe-a8f7-11eb-b980-48ba4e43290e.jpg -> Annotation:C:/Users/ralha/OneDrive/Desktop/IIITB/TFOD/TFODCourse/Tensorflow/workspace/images/collectedimages/livelong/livelong.a20808fe-a8f7-11eb-b980-48ba4e43290e.xml.txt\n",
      "Image:C:\\Users\\ralha\\OneDrive\\Desktop\\IIITB\\TFOD\\TFODCourse\\Tensorflow\\workspace\\images\\collectedimages\\livelong\\thankyou.3e52769c-a8f6-11eb-a2be-48ba4e43290e.jpg -> Annotation:C:/Users/ralha/OneDrive/Desktop/IIITB/TFOD/TFODCourse/Tensorflow/workspace/images/collectedimages/livelong/thankyou.3e52769c-a8f6-11eb-a2be-48ba4e43290e.xml.txt\n",
      "Image:C:\\Users\\ralha\\OneDrive\\Desktop\\IIITB\\TFOD\\TFODCourse\\Tensorflow\\workspace\\images\\collectedimages\\livelong\\thankyou.3f8f1590-a8f6-11eb-becf-48ba4e43290e.jpg -> Annotation:C:/Users/ralha/OneDrive/Desktop/IIITB/TFOD/TFODCourse/Tensorflow/workspace/images/collectedimages/livelong/thankyou.3f8f1590-a8f6-11eb-becf-48ba4e43290e.xml.txt\n",
      "Image:C:\\Users\\ralha\\OneDrive\\Desktop\\IIITB\\TFOD\\TFODCourse\\Tensorflow\\workspace\\images\\collectedimages\\livelong\\thankyou.40c43ae4-a8f6-11eb-8fb3-48ba4e43290e.jpg -> Annotation:C:/Users/ralha/OneDrive/Desktop/IIITB/TFOD/TFODCourse/Tensorflow/workspace/images/collectedimages/livelong/thankyou.40c43ae4-a8f6-11eb-8fb3-48ba4e43290e.xml.txt\n",
      "Image:C:\\Users\\ralha\\OneDrive\\Desktop\\IIITB\\TFOD\\TFODCourse\\Tensorflow\\workspace\\images\\collectedimages\\livelong\\thankyou.41f9a52c-a8f6-11eb-8b3c-48ba4e43290e.jpg -> Annotation:C:/Users/ralha/OneDrive/Desktop/IIITB/TFOD/TFODCourse/Tensorflow/workspace/images/collectedimages/livelong/thankyou.41f9a52c-a8f6-11eb-8b3c-48ba4e43290e.xml.txt\n",
      "Image:C:\\Users\\ralha\\OneDrive\\Desktop\\IIITB\\TFOD\\TFODCourse\\Tensorflow\\workspace\\images\\collectedimages\\livelong\\livelong.5d27436e-a8f7-11eb-a0c6-48ba4e43290e.jpg -> Annotation:C:/Users/ralha/OneDrive/Desktop/IIITB/TFOD/TFODCourse/Tensorflow/workspace/images/collectedimages/livelong/livelong.5d27436e-a8f7-11eb-a0c6-48ba4e43290e.xml.txt\n",
      "Image:C:\\Users\\ralha\\OneDrive\\Desktop\\IIITB\\TFOD\\TFODCourse\\Tensorflow\\workspace\\images\\collectedimages\\livelong\\livelong.5d27436e-a8f7-11eb-a0c6-48ba4e43290e.jpg -> Annotation:C:/Users/ralha/OneDrive/Desktop/IIITB/TFOD/TFODCourse/Tensorflow/workspace/images/collectedimages/livelong/livelong.5d27436e-a8f7-11eb-a0c6-48ba4e43290e.txt\n",
      "Image:C:\\Users\\ralha\\OneDrive\\Desktop\\IIITB\\TFOD\\TFODCourse\\Tensorflow\\workspace\\images\\collectedimages\\livelong\\livelong.5d27436e-a8f7-11eb-a0c6-48ba4e43290e.jpg -> Annotation:C:\\Users\\ralha\\OneDrive\\Desktop\\IIITB\\TFOD\\TFODCourse\\Tensorflow\\workspace\\images\\collectedimages\\livelong\\livelong.5d27436e-a8f7-11eb-a0c6-48ba4e43290e.txt\n",
      "Image:C:\\Users\\ralha\\OneDrive\\Desktop\\IIITB\\TFOD\\TFODCourse\\Tensorflow\\workspace\\images\\collectedimages\\livelong\\livelong.5d27436e-a8f7-11eb-a0c6-48ba4e43290e.jpg -> Annotation:C:/Users/ralha/OneDrive/Desktop/IIITB/TFOD/TFODCourse/Tensorflow/workspace/images/collectedimages/livelong/livelong.5d27436e-a8f7-11eb-a0c6-48ba4e43290e.xml\n",
      "Image:C:\\Users\\ralha\\OneDrive\\Desktop\\IIITB\\TFOD\\TFODCourse\\Tensorflow\\workspace\\images\\collectedimages\\livelong\\livelong.5d27436e-a8f7-11eb-a0c6-48ba4e43290e.jpg -> Annotation:C:/Users/ralha/OneDrive/Desktop/IIITB/TFOD/TFODCourse/Tensorflow/workspace/images/collectedimages/livelong/livelong.5d27436e-a8f7-11eb-a0c6-48ba4e43290e.xml\n",
      "Image:C:\\Users\\ralha\\OneDrive\\Desktop\\IIITB\\TFOD\\TFODCourse\\Tensorflow\\workspace\\images\\collectedimages\\livelong\\livelong.5e650f88-a8f7-11eb-89f3-48ba4e43290e.jpg -> Annotation:C:/Users/ralha/OneDrive/Desktop/IIITB/TFOD/TFODCourse/Tensorflow/workspace/images/collectedimages/livelong/livelong.5e650f88-a8f7-11eb-89f3-48ba4e43290e.xml\n"
     ]
    },
    {
     "name": "stderr",
     "output_type": "stream",
     "text": [
      "QAction::event: Ambiguous shortcut overload: Ctrl+Shift+S\n",
      "QAction::event: Ambiguous shortcut overload: Ctrl+Shift+S\n"
     ]
    },
    {
     "name": "stdout",
     "output_type": "stream",
     "text": [
      "Image:C:\\Users\\ralha\\OneDrive\\Desktop\\IIITB\\TFOD\\TFODCourse\\Tensorflow\\workspace\\images\\collectedimages\\livelong\\livelong.5f9b6286-a8f7-11eb-b855-48ba4e43290e.jpg -> Annotation:C:/Users/ralha/OneDrive/Desktop/IIITB/TFOD/TFODCourse/Tensorflow/workspace/images/collectedimages/livelong/livelong.5f9b6286-a8f7-11eb-b855-48ba4e43290e.xml\n",
      "Image:C:\\Users\\ralha\\OneDrive\\Desktop\\IIITB\\TFOD\\TFODCourse\\Tensorflow\\workspace\\images\\collectedimages\\livelong\\livelong.60d35576-a8f7-11eb-ab5c-48ba4e43290e.jpg -> Annotation:C:/Users/ralha/OneDrive/Desktop/IIITB/TFOD/TFODCourse/Tensorflow/workspace/images/collectedimages/livelong/livelong.60d35576-a8f7-11eb-ab5c-48ba4e43290e.xml\n",
      "Image:C:\\Users\\ralha\\OneDrive\\Desktop\\IIITB\\TFOD\\TFODCourse\\Tensorflow\\workspace\\images\\collectedimages\\livelong\\livelong.6208f948-a8f7-11eb-ad34-48ba4e43290e.jpg -> Annotation:C:/Users/ralha/OneDrive/Desktop/IIITB/TFOD/TFODCourse/Tensorflow/workspace/images/collectedimages/livelong/livelong.6208f948-a8f7-11eb-ad34-48ba4e43290e.xml\n",
      "Image:C:\\Users\\ralha\\OneDrive\\Desktop\\IIITB\\TFOD\\TFODCourse\\Tensorflow\\workspace\\images\\collectedimages\\livelong\\livelong.a0d3fa5c-a8f7-11eb-9948-48ba4e43290e.jpg -> Annotation:C:/Users/ralha/OneDrive/Desktop/IIITB/TFOD/TFODCourse/Tensorflow/workspace/images/collectedimages/livelong/livelong.a0d3fa5c-a8f7-11eb-9948-48ba4e43290e.xml\n",
      "Image:C:\\Users\\ralha\\OneDrive\\Desktop\\IIITB\\TFOD\\TFODCourse\\Tensorflow\\workspace\\images\\collectedimages\\livelong\\livelong.a33f3e1c-a8f7-11eb-bbff-48ba4e43290e.jpg -> Annotation:C:/Users/ralha/OneDrive/Desktop/IIITB/TFOD/TFODCourse/Tensorflow/workspace/images/collectedimages/livelong/livelong.a33f3e1c-a8f7-11eb-bbff-48ba4e43290e.xml\n",
      "Image:C:\\Users\\ralha\\OneDrive\\Desktop\\IIITB\\TFOD\\TFODCourse\\Tensorflow\\workspace\\images\\collectedimages\\livelong\\livelong.a4751dd4-a8f7-11eb-8758-48ba4e43290e.jpg -> Annotation:C:/Users/ralha/OneDrive/Desktop/IIITB/TFOD/TFODCourse/Tensorflow/workspace/images/collectedimages/livelong/livelong.a4751dd4-a8f7-11eb-8758-48ba4e43290e.xml\n",
      "Image:C:\\Users\\ralha\\OneDrive\\Desktop\\IIITB\\TFOD\\TFODCourse\\Tensorflow\\workspace\\images\\collectedimages\\livelong\\livelong.a20808fe-a8f7-11eb-b980-48ba4e43290e.jpg -> Annotation:C:/Users/ralha/OneDrive/Desktop/IIITB/TFOD/TFODCourse/Tensorflow/workspace/images/collectedimages/livelong/livelong.a20808fe-a8f7-11eb-b980-48ba4e43290e.xml\n",
      "Image:C:\\Users\\ralha\\OneDrive\\Desktop\\IIITB\\TFOD\\TFODCourse\\Tensorflow\\workspace\\images\\collectedimages\\livelong\\livelong.3e52769c-a8f6-11eb-a2be-48ba4e43290e.jpg -> Annotation:C:/Users/ralha/OneDrive/Desktop/IIITB/TFOD/TFODCourse/Tensorflow/workspace/images/collectedimages/livelong/livelong.3e52769c-a8f6-11eb-a2be-48ba4e43290e.xml\n",
      "Image:C:\\Users\\ralha\\OneDrive\\Desktop\\IIITB\\TFOD\\TFODCourse\\Tensorflow\\workspace\\images\\collectedimages\\livelong\\livelong.3e52769c-a8f6-11eb-a2be-48ba4e43290e.jpg -> Annotation:C:\\Users\\ralha\\OneDrive\\Desktop\\IIITB\\TFOD\\TFODCourse\\Tensorflow\\workspace\\images\\collectedimages\\livelong\\livelong.3e52769c-a8f6-11eb-a2be-48ba4e43290e.xml\n",
      "Image:C:\\Users\\ralha\\OneDrive\\Desktop\\IIITB\\TFOD\\TFODCourse\\Tensorflow\\workspace\\images\\collectedimages\\livelong\\livelong.3f8f1590-a8f6-11eb-becf-48ba4e43290e.jpg -> Annotation:C:/Users/ralha/OneDrive/Desktop/IIITB/TFOD/TFODCourse/Tensorflow/workspace/images/collectedimages/livelong/livelong.3f8f1590-a8f6-11eb-becf-48ba4e43290e.xml\n",
      "Image:C:\\Users\\ralha\\OneDrive\\Desktop\\IIITB\\TFOD\\TFODCourse\\Tensorflow\\workspace\\images\\collectedimages\\livelong\\livelong.3f8f1590-a8f6-11eb-becf-48ba4e43290e.jpg -> Annotation:C:\\Users\\ralha\\OneDrive\\Desktop\\IIITB\\TFOD\\TFODCourse\\Tensorflow\\workspace\\images\\collectedimages\\livelong\\livelong.3f8f1590-a8f6-11eb-becf-48ba4e43290e.xml\n",
      "Image:C:\\Users\\ralha\\OneDrive\\Desktop\\IIITB\\TFOD\\TFODCourse\\Tensorflow\\workspace\\images\\collectedimages\\livelong\\livelong.5d27436e-a8f7-11eb-a0c6-48ba4e43290e.jpg -> Annotation:C:/Users/ralha/OneDrive/Desktop/IIITB/TFOD/TFODCourse/Tensorflow/workspace/images/collectedimages/livelong/livelong.5d27436e-a8f7-11eb-a0c6-48ba4e43290e.xml\n",
      "Image:C:\\Users\\ralha\\OneDrive\\Desktop\\IIITB\\TFOD\\TFODCourse\\Tensorflow\\workspace\\images\\collectedimages\\livelong\\livelong.5d27436e-a8f7-11eb-a0c6-48ba4e43290e.jpg -> Annotation:C:\\Users\\ralha\\OneDrive\\Desktop\\IIITB\\TFOD\\TFODCourse\\Tensorflow\\workspace\\images\\collectedimages\\livelong\\livelong.5d27436e-a8f7-11eb-a0c6-48ba4e43290e.xml\n",
      "Image:C:\\Users\\ralha\\OneDrive\\Desktop\\IIITB\\TFOD\\TFODCourse\\Tensorflow\\workspace\\images\\collectedimages\\livelong\\livelong.5e650f88-a8f7-11eb-89f3-48ba4e43290e.jpg -> Annotation:C:/Users/ralha/OneDrive/Desktop/IIITB/TFOD/TFODCourse/Tensorflow/workspace/images/collectedimages/livelong/livelong.5e650f88-a8f7-11eb-89f3-48ba4e43290e.xml\n",
      "Image:C:\\Users\\ralha\\OneDrive\\Desktop\\IIITB\\TFOD\\TFODCourse\\Tensorflow\\workspace\\images\\collectedimages\\livelong\\livelong.5e650f88-a8f7-11eb-89f3-48ba4e43290e.jpg -> Annotation:C:\\Users\\ralha\\OneDrive\\Desktop\\IIITB\\TFOD\\TFODCourse\\Tensorflow\\workspace\\images\\collectedimages\\livelong\\livelong.5e650f88-a8f7-11eb-89f3-48ba4e43290e.xml\n",
      "Image:C:\\Users\\ralha\\OneDrive\\Desktop\\IIITB\\TFOD\\TFODCourse\\Tensorflow\\workspace\\images\\collectedimages\\livelong\\livelong.5f9b6286-a8f7-11eb-b855-48ba4e43290e.jpg -> Annotation:C:/Users/ralha/OneDrive/Desktop/IIITB/TFOD/TFODCourse/Tensorflow/workspace/images/collectedimages/livelong/livelong.5f9b6286-a8f7-11eb-b855-48ba4e43290e.xml\n",
      "Image:C:\\Users\\ralha\\OneDrive\\Desktop\\IIITB\\TFOD\\TFODCourse\\Tensorflow\\workspace\\images\\collectedimages\\livelong\\livelong.5f9b6286-a8f7-11eb-b855-48ba4e43290e.jpg -> Annotation:C:\\Users\\ralha\\OneDrive\\Desktop\\IIITB\\TFOD\\TFODCourse\\Tensorflow\\workspace\\images\\collectedimages\\livelong\\livelong.5f9b6286-a8f7-11eb-b855-48ba4e43290e.xml\n",
      "Image:C:\\Users\\ralha\\OneDrive\\Desktop\\IIITB\\TFOD\\TFODCourse\\Tensorflow\\workspace\\images\\collectedimages\\livelong\\livelong.40c43ae4-a8f6-11eb-8fb3-48ba4e43290e.jpg -> Annotation:C:/Users/ralha/OneDrive/Desktop/IIITB/TFOD/TFODCourse/Tensorflow/workspace/images/collectedimages/livelong/livelong.40c43ae4-a8f6-11eb-8fb3-48ba4e43290e.xml\n",
      "Image:C:\\Users\\ralha\\OneDrive\\Desktop\\IIITB\\TFOD\\TFODCourse\\Tensorflow\\workspace\\images\\collectedimages\\livelong\\livelong.40c43ae4-a8f6-11eb-8fb3-48ba4e43290e.jpg -> Annotation:C:\\Users\\ralha\\OneDrive\\Desktop\\IIITB\\TFOD\\TFODCourse\\Tensorflow\\workspace\\images\\collectedimages\\livelong\\livelong.40c43ae4-a8f6-11eb-8fb3-48ba4e43290e.xml\n",
      "Image:C:\\Users\\ralha\\OneDrive\\Desktop\\IIITB\\TFOD\\TFODCourse\\Tensorflow\\workspace\\images\\collectedimages\\livelong\\livelong.41f9a52c-a8f6-11eb-8b3c-48ba4e43290e.jpg -> Annotation:C:/Users/ralha/OneDrive/Desktop/IIITB/TFOD/TFODCourse/Tensorflow/workspace/images/collectedimages/livelong/livelong.41f9a52c-a8f6-11eb-8b3c-48ba4e43290e.xml\n",
      "Image:C:\\Users\\ralha\\OneDrive\\Desktop\\IIITB\\TFOD\\TFODCourse\\Tensorflow\\workspace\\images\\collectedimages\\livelong\\livelong.41f9a52c-a8f6-11eb-8b3c-48ba4e43290e.jpg -> Annotation:C:\\Users\\ralha\\OneDrive\\Desktop\\IIITB\\TFOD\\TFODCourse\\Tensorflow\\workspace\\images\\collectedimages\\livelong\\livelong.41f9a52c-a8f6-11eb-8b3c-48ba4e43290e.xml\n",
      "Image:C:\\Users\\ralha\\OneDrive\\Desktop\\IIITB\\TFOD\\TFODCourse\\Tensorflow\\workspace\\images\\collectedimages\\livelong\\livelong.60d35576-a8f7-11eb-ab5c-48ba4e43290e.jpg -> Annotation:C:/Users/ralha/OneDrive/Desktop/IIITB/TFOD/TFODCourse/Tensorflow/workspace/images/collectedimages/livelong/livelong.60d35576-a8f7-11eb-ab5c-48ba4e43290e.xml\n",
      "Image:C:\\Users\\ralha\\OneDrive\\Desktop\\IIITB\\TFOD\\TFODCourse\\Tensorflow\\workspace\\images\\collectedimages\\livelong\\livelong.60d35576-a8f7-11eb-ab5c-48ba4e43290e.jpg -> Annotation:C:\\Users\\ralha\\OneDrive\\Desktop\\IIITB\\TFOD\\TFODCourse\\Tensorflow\\workspace\\images\\collectedimages\\livelong\\livelong.60d35576-a8f7-11eb-ab5c-48ba4e43290e.xml\n",
      "Image:C:\\Users\\ralha\\OneDrive\\Desktop\\IIITB\\TFOD\\TFODCourse\\Tensorflow\\workspace\\images\\collectedimages\\livelong\\livelong.6208f948-a8f7-11eb-ad34-48ba4e43290e.jpg -> Annotation:C:/Users/ralha/OneDrive/Desktop/IIITB/TFOD/TFODCourse/Tensorflow/workspace/images/collectedimages/livelong/livelong.6208f948-a8f7-11eb-ad34-48ba4e43290e.xml\n",
      "Image:C:\\Users\\ralha\\OneDrive\\Desktop\\IIITB\\TFOD\\TFODCourse\\Tensorflow\\workspace\\images\\collectedimages\\livelong\\livelong.6208f948-a8f7-11eb-ad34-48ba4e43290e.jpg -> Annotation:C:\\Users\\ralha\\OneDrive\\Desktop\\IIITB\\TFOD\\TFODCourse\\Tensorflow\\workspace\\images\\collectedimages\\livelong\\livelong.6208f948-a8f7-11eb-ad34-48ba4e43290e.xml\n",
      "Image:C:\\Users\\ralha\\OneDrive\\Desktop\\IIITB\\TFOD\\TFODCourse\\Tensorflow\\workspace\\images\\collectedimages\\livelong\\livelong.a0d3fa5c-a8f7-11eb-9948-48ba4e43290e.jpg -> Annotation:C:/Users/ralha/OneDrive/Desktop/IIITB/TFOD/TFODCourse/Tensorflow/workspace/images/collectedimages/livelong/livelong.a0d3fa5c-a8f7-11eb-9948-48ba4e43290e.xml\n",
      "Image:C:\\Users\\ralha\\OneDrive\\Desktop\\IIITB\\TFOD\\TFODCourse\\Tensorflow\\workspace\\images\\collectedimages\\livelong\\livelong.a33f3e1c-a8f7-11eb-bbff-48ba4e43290e.jpg -> Annotation:C:/Users/ralha/OneDrive/Desktop/IIITB/TFOD/TFODCourse/Tensorflow/workspace/images/collectedimages/livelong/livelong.a33f3e1c-a8f7-11eb-bbff-48ba4e43290e.xml\n",
      "Image:C:\\Users\\ralha\\OneDrive\\Desktop\\IIITB\\TFOD\\TFODCourse\\Tensorflow\\workspace\\images\\collectedimages\\livelong\\livelong.a33f3e1c-a8f7-11eb-bbff-48ba4e43290e.jpg -> Annotation:C:\\Users\\ralha\\OneDrive\\Desktop\\IIITB\\TFOD\\TFODCourse\\Tensorflow\\workspace\\images\\collectedimages\\livelong\\livelong.a33f3e1c-a8f7-11eb-bbff-48ba4e43290e.xml\n",
      "Image:C:\\Users\\ralha\\OneDrive\\Desktop\\IIITB\\TFOD\\TFODCourse\\Tensorflow\\workspace\\images\\collectedimages\\livelong\\livelong.a4751dd4-a8f7-11eb-8758-48ba4e43290e.jpg -> Annotation:C:/Users/ralha/OneDrive/Desktop/IIITB/TFOD/TFODCourse/Tensorflow/workspace/images/collectedimages/livelong/livelong.a4751dd4-a8f7-11eb-8758-48ba4e43290e.xml\n",
      "Image:C:\\Users\\ralha\\OneDrive\\Desktop\\IIITB\\TFOD\\TFODCourse\\Tensorflow\\workspace\\images\\collectedimages\\livelong\\livelong.a20808fe-a8f7-11eb-b980-48ba4e43290e.jpg -> Annotation:C:/Users/ralha/OneDrive/Desktop/IIITB/TFOD/TFODCourse/Tensorflow/workspace/images/collectedimages/livelong/livelong.a20808fe-a8f7-11eb-b980-48ba4e43290e.xml\n",
      "Image:C:\\Users\\ralha\\OneDrive\\Desktop\\IIITB\\TFOD\\TFODCourse\\Tensorflow\\workspace\\images\\collectedimages\\thankyou\\thankyou.9a0bc2c0-a8f7-11eb-bbb4-48ba4e43290e.jpg -> Annotation:C:/Users/ralha/OneDrive/Desktop/IIITB/TFOD/TFODCourse/Tensorflow/workspace/images/collectedimages/thankyou/thankyou.9a0bc2c0-a8f7-11eb-bbb4-48ba4e43290e.xml\n",
      "Image:C:\\Users\\ralha\\OneDrive\\Desktop\\IIITB\\TFOD\\TFODCourse\\Tensorflow\\workspace\\images\\collectedimages\\thankyou\\thankyou.52b4572c-a8f7-11eb-bb60-48ba4e43290e.jpg -> Annotation:C:/Users/ralha/OneDrive/Desktop/IIITB/TFOD/TFODCourse/Tensorflow/workspace/images/collectedimages/thankyou/thankyou.52b4572c-a8f7-11eb-bb60-48ba4e43290e.xml\n",
      "Image:C:\\Users\\ralha\\OneDrive\\Desktop\\IIITB\\TFOD\\TFODCourse\\Tensorflow\\workspace\\images\\collectedimages\\thankyou\\thankyou.52b4572c-a8f7-11eb-bb60-48ba4e43290e.jpg -> Annotation:C:\\Users\\ralha\\OneDrive\\Desktop\\IIITB\\TFOD\\TFODCourse\\Tensorflow\\workspace\\images\\collectedimages\\thankyou\\thankyou.52b4572c-a8f7-11eb-bb60-48ba4e43290e.xml\n",
      "Image:C:\\Users\\ralha\\OneDrive\\Desktop\\IIITB\\TFOD\\TFODCourse\\Tensorflow\\workspace\\images\\collectedimages\\thankyou\\thankyou.52b4572c-a8f7-11eb-bb60-48ba4e43290e.jpg -> Annotation:C:\\Users\\ralha\\OneDrive\\Desktop\\IIITB\\TFOD\\TFODCourse\\Tensorflow\\workspace\\images\\collectedimages\\thankyou\\thankyou.52b4572c-a8f7-11eb-bb60-48ba4e43290e.xml\n",
      "Image:C:\\Users\\ralha\\OneDrive\\Desktop\\IIITB\\TFOD\\TFODCourse\\Tensorflow\\workspace\\images\\collectedimages\\thankyou\\thankyou.52b4572c-a8f7-11eb-bb60-48ba4e43290e.jpg -> Annotation:C:\\Users\\ralha\\OneDrive\\Desktop\\IIITB\\TFOD\\TFODCourse\\Tensorflow\\workspace\\images\\collectedimages\\thankyou\\thankyou.52b4572c-a8f7-11eb-bb60-48ba4e43290e.xml\n",
      "Image:C:\\Users\\ralha\\OneDrive\\Desktop\\IIITB\\TFOD\\TFODCourse\\Tensorflow\\workspace\\images\\collectedimages\\thankyou\\thankyou.9a0bc2c0-a8f7-11eb-bbb4-48ba4e43290e.jpg -> Annotation:C:/Users/ralha/OneDrive/Desktop/IIITB/TFOD/TFODCourse/Tensorflow/workspace/images/collectedimages/thankyou/thankyou.9a0bc2c0-a8f7-11eb-bbb4-48ba4e43290e.xml\n",
      "Image:C:\\Users\\ralha\\OneDrive\\Desktop\\IIITB\\TFOD\\TFODCourse\\Tensorflow\\workspace\\images\\collectedimages\\thankyou\\thankyou.9a0bc2c0-a8f7-11eb-bbb4-48ba4e43290e.jpg -> Annotation:C:\\Users\\ralha\\OneDrive\\Desktop\\IIITB\\TFOD\\TFODCourse\\Tensorflow\\workspace\\images\\collectedimages\\thankyou\\thankyou.9a0bc2c0-a8f7-11eb-bbb4-48ba4e43290e.xml\n",
      "Image:C:\\Users\\ralha\\OneDrive\\Desktop\\IIITB\\TFOD\\TFODCourse\\Tensorflow\\workspace\\images\\collectedimages\\thankyou\\thankyou.53f13fde-a8f7-11eb-aa1d-48ba4e43290e.jpg -> Annotation:C:/Users/ralha/OneDrive/Desktop/IIITB/TFOD/TFODCourse/Tensorflow/workspace/images/collectedimages/thankyou/thankyou.53f13fde-a8f7-11eb-aa1d-48ba4e43290e.xml\n",
      "Image:C:\\Users\\ralha\\OneDrive\\Desktop\\IIITB\\TFOD\\TFODCourse\\Tensorflow\\workspace\\images\\collectedimages\\thankyou\\thankyou.53f13fde-a8f7-11eb-aa1d-48ba4e43290e.jpg -> Annotation:C:\\Users\\ralha\\OneDrive\\Desktop\\IIITB\\TFOD\\TFODCourse\\Tensorflow\\workspace\\images\\collectedimages\\thankyou\\thankyou.53f13fde-a8f7-11eb-aa1d-48ba4e43290e.xml\n",
      "Image:C:\\Users\\ralha\\OneDrive\\Desktop\\IIITB\\TFOD\\TFODCourse\\Tensorflow\\workspace\\images\\collectedimages\\thankyou\\thankyou.98d5fc36-a8f7-11eb-865d-48ba4e43290e.jpg -> Annotation:C:/Users/ralha/OneDrive/Desktop/IIITB/TFOD/TFODCourse/Tensorflow/workspace/images/collectedimages/thankyou/thankyou.98d5fc36-a8f7-11eb-865d-48ba4e43290e.xml\n",
      "Image:C:\\Users\\ralha\\OneDrive\\Desktop\\IIITB\\TFOD\\TFODCourse\\Tensorflow\\workspace\\images\\collectedimages\\thankyou\\thankyou.98d5fc36-a8f7-11eb-865d-48ba4e43290e.jpg -> Annotation:C:\\Users\\ralha\\OneDrive\\Desktop\\IIITB\\TFOD\\TFODCourse\\Tensorflow\\workspace\\images\\collectedimages\\thankyou\\thankyou.98d5fc36-a8f7-11eb-865d-48ba4e43290e.xml\n",
      "Image:C:\\Users\\ralha\\OneDrive\\Desktop\\IIITB\\TFOD\\TFODCourse\\Tensorflow\\workspace\\images\\collectedimages\\thankyou\\thankyou.565eb146-a8f7-11eb-afec-48ba4e43290e.jpg -> Annotation:C:/Users/ralha/OneDrive/Desktop/IIITB/TFOD/TFODCourse/Tensorflow/workspace/images/collectedimages/thankyou/thankyou.565eb146-a8f7-11eb-afec-48ba4e43290e.xml\n",
      "Image:C:\\Users\\ralha\\OneDrive\\Desktop\\IIITB\\TFOD\\TFODCourse\\Tensorflow\\workspace\\images\\collectedimages\\thankyou\\thankyou.565eb146-a8f7-11eb-afec-48ba4e43290e.jpg -> Annotation:C:\\Users\\ralha\\OneDrive\\Desktop\\IIITB\\TFOD\\TFODCourse\\Tensorflow\\workspace\\images\\collectedimages\\thankyou\\thankyou.565eb146-a8f7-11eb-afec-48ba4e43290e.xml\n",
      "Image:C:\\Users\\ralha\\OneDrive\\Desktop\\IIITB\\TFOD\\TFODCourse\\Tensorflow\\workspace\\images\\collectedimages\\thankyou\\thankyou.952eb130-a8f7-11eb-8346-48ba4e43290e.jpg -> Annotation:C:/Users/ralha/OneDrive/Desktop/IIITB/TFOD/TFODCourse/Tensorflow/workspace/images/collectedimages/thankyou/thankyou.952eb130-a8f7-11eb-8346-48ba4e43290e.xml\n",
      "Image:C:\\Users\\ralha\\OneDrive\\Desktop\\IIITB\\TFOD\\TFODCourse\\Tensorflow\\workspace\\images\\collectedimages\\thankyou\\thankyou.952eb130-a8f7-11eb-8346-48ba4e43290e.jpg -> Annotation:C:\\Users\\ralha\\OneDrive\\Desktop\\IIITB\\TFOD\\TFODCourse\\Tensorflow\\workspace\\images\\collectedimages\\thankyou\\thankyou.952eb130-a8f7-11eb-8346-48ba4e43290e.xml\n",
      "Image:C:\\Users\\ralha\\OneDrive\\Desktop\\IIITB\\TFOD\\TFODCourse\\Tensorflow\\workspace\\images\\collectedimages\\thankyou\\thankyou.966bba5c-a8f7-11eb-a901-48ba4e43290e.jpg -> Annotation:C:/Users/ralha/OneDrive/Desktop/IIITB/TFOD/TFODCourse/Tensorflow/workspace/images/collectedimages/thankyou/thankyou.966bba5c-a8f7-11eb-a901-48ba4e43290e.xml\n",
      "Image:C:\\Users\\ralha\\OneDrive\\Desktop\\IIITB\\TFOD\\TFODCourse\\Tensorflow\\workspace\\images\\collectedimages\\thankyou\\thankyou.966bba5c-a8f7-11eb-a901-48ba4e43290e.jpg -> Annotation:C:\\Users\\ralha\\OneDrive\\Desktop\\IIITB\\TFOD\\TFODCourse\\Tensorflow\\workspace\\images\\collectedimages\\thankyou\\thankyou.966bba5c-a8f7-11eb-a901-48ba4e43290e.xml\n",
      "Image:C:\\Users\\ralha\\OneDrive\\Desktop\\IIITB\\TFOD\\TFODCourse\\Tensorflow\\workspace\\images\\collectedimages\\thankyou\\thankyou.979fe878-a8f7-11eb-815d-48ba4e43290e.jpg -> Annotation:C:/Users/ralha/OneDrive/Desktop/IIITB/TFOD/TFODCourse/Tensorflow/workspace/images/collectedimages/thankyou/thankyou.979fe878-a8f7-11eb-815d-48ba4e43290e.xml\n",
      "Image:C:\\Users\\ralha\\OneDrive\\Desktop\\IIITB\\TFOD\\TFODCourse\\Tensorflow\\workspace\\images\\collectedimages\\thankyou\\thankyou.979fe878-a8f7-11eb-815d-48ba4e43290e.jpg -> Annotation:C:\\Users\\ralha\\OneDrive\\Desktop\\IIITB\\TFOD\\TFODCourse\\Tensorflow\\workspace\\images\\collectedimages\\thankyou\\thankyou.979fe878-a8f7-11eb-815d-48ba4e43290e.xml\n",
      "Image:C:\\Users\\ralha\\OneDrive\\Desktop\\IIITB\\TFOD\\TFODCourse\\Tensorflow\\workspace\\images\\collectedimages\\thankyou\\thankyou.5526fe12-a8f7-11eb-a850-48ba4e43290e.jpg -> Annotation:C:/Users/ralha/OneDrive/Desktop/IIITB/TFOD/TFODCourse/Tensorflow/workspace/images/collectedimages/thankyou/thankyou.5526fe12-a8f7-11eb-a850-48ba4e43290e.xml\n",
      "Image:C:\\Users\\ralha\\OneDrive\\Desktop\\IIITB\\TFOD\\TFODCourse\\Tensorflow\\workspace\\images\\collectedimages\\thankyou\\thankyou.5526fe12-a8f7-11eb-a850-48ba4e43290e.jpg -> Annotation:C:\\Users\\ralha\\OneDrive\\Desktop\\IIITB\\TFOD\\TFODCourse\\Tensorflow\\workspace\\images\\collectedimages\\thankyou\\thankyou.5526fe12-a8f7-11eb-a850-48ba4e43290e.xml\n",
      "Image:C:\\Users\\ralha\\OneDrive\\Desktop\\IIITB\\TFOD\\TFODCourse\\Tensorflow\\workspace\\images\\collectedimages\\thankyou\\thankyou.5796a2d8-a8f7-11eb-898f-48ba4e43290e.jpg -> Annotation:C:/Users/ralha/OneDrive/Desktop/IIITB/TFOD/TFODCourse/Tensorflow/workspace/images/collectedimages/thankyou/thankyou.5796a2d8-a8f7-11eb-898f-48ba4e43290e.xml\n",
      "Image:C:\\Users\\ralha\\OneDrive\\Desktop\\IIITB\\TFOD\\TFODCourse\\Tensorflow\\workspace\\images\\collectedimages\\thankyou\\thankyou.5796a2d8-a8f7-11eb-898f-48ba4e43290e.jpg -> Annotation:C:\\Users\\ralha\\OneDrive\\Desktop\\IIITB\\TFOD\\TFODCourse\\Tensorflow\\workspace\\images\\collectedimages\\thankyou\\thankyou.5796a2d8-a8f7-11eb-898f-48ba4e43290e.xml\n",
      "Image:C:\\Users\\ralha\\OneDrive\\Desktop\\IIITB\\TFOD\\TFODCourse\\Tensorflow\\workspace\\images\\collectedimages\\thumbsdown\\thumbsdown.4aaadf12-a8f7-11eb-85f2-48ba4e43290e.jpg -> Annotation:C:/Users/ralha/OneDrive/Desktop/IIITB/TFOD/TFODCourse/Tensorflow/workspace/images/collectedimages/thumbsdown/thumbsdown.4aaadf12-a8f7-11eb-85f2-48ba4e43290e.xml\n",
      "Image:C:\\Users\\ralha\\OneDrive\\Desktop\\IIITB\\TFOD\\TFODCourse\\Tensorflow\\workspace\\images\\collectedimages\\thumbsdown\\thumbsdown.4aaadf12-a8f7-11eb-85f2-48ba4e43290e.jpg -> Annotation:C:\\Users\\ralha\\OneDrive\\Desktop\\IIITB\\TFOD\\TFODCourse\\Tensorflow\\workspace\\images\\collectedimages\\thumbsdown\\thumbsdown.4aaadf12-a8f7-11eb-85f2-48ba4e43290e.xml\n",
      "Image:C:\\Users\\ralha\\OneDrive\\Desktop\\IIITB\\TFOD\\TFODCourse\\Tensorflow\\workspace\\images\\collectedimages\\thumbsdown\\thumbsdown.4d18d474-a8f7-11eb-9db0-48ba4e43290e.jpg -> Annotation:C:/Users/ralha/OneDrive/Desktop/IIITB/TFOD/TFODCourse/Tensorflow/workspace/images/collectedimages/thumbsdown/thumbsdown.4d18d474-a8f7-11eb-9db0-48ba4e43290e.xml\n",
      "Image:C:\\Users\\ralha\\OneDrive\\Desktop\\IIITB\\TFOD\\TFODCourse\\Tensorflow\\workspace\\images\\collectedimages\\thumbsdown\\thumbsdown.4d18d474-a8f7-11eb-9db0-48ba4e43290e.jpg -> Annotation:C:\\Users\\ralha\\OneDrive\\Desktop\\IIITB\\TFOD\\TFODCourse\\Tensorflow\\workspace\\images\\collectedimages\\thumbsdown\\thumbsdown.4d18d474-a8f7-11eb-9db0-48ba4e43290e.xml\n",
      "Image:C:\\Users\\ralha\\OneDrive\\Desktop\\IIITB\\TFOD\\TFODCourse\\Tensorflow\\workspace\\images\\collectedimages\\thumbsdown\\thumbsdown.8ac03ad4-a8f7-11eb-b689-48ba4e43290e.jpg -> Annotation:C:/Users/ralha/OneDrive/Desktop/IIITB/TFOD/TFODCourse/Tensorflow/workspace/images/collectedimages/thumbsdown/thumbsdown.8ac03ad4-a8f7-11eb-b689-48ba4e43290e.xml\n",
      "Image:C:\\Users\\ralha\\OneDrive\\Desktop\\IIITB\\TFOD\\TFODCourse\\Tensorflow\\workspace\\images\\collectedimages\\thumbsdown\\thumbsdown.8ac03ad4-a8f7-11eb-b689-48ba4e43290e.jpg -> Annotation:C:\\Users\\ralha\\OneDrive\\Desktop\\IIITB\\TFOD\\TFODCourse\\Tensorflow\\workspace\\images\\collectedimages\\thumbsdown\\thumbsdown.8ac03ad4-a8f7-11eb-b689-48ba4e43290e.xml\n",
      "Image:C:\\Users\\ralha\\OneDrive\\Desktop\\IIITB\\TFOD\\TFODCourse\\Tensorflow\\workspace\\images\\collectedimages\\thumbsdown\\thumbsdown.8bfe32dc-a8f7-11eb-af6d-48ba4e43290e.jpg -> Annotation:C:/Users/ralha/OneDrive/Desktop/IIITB/TFOD/TFODCourse/Tensorflow/workspace/images/collectedimages/thumbsdown/thumbsdown.8bfe32dc-a8f7-11eb-af6d-48ba4e43290e.xml\n",
      "Image:C:\\Users\\ralha\\OneDrive\\Desktop\\IIITB\\TFOD\\TFODCourse\\Tensorflow\\workspace\\images\\collectedimages\\thumbsdown\\thumbsdown.8bfe32dc-a8f7-11eb-af6d-48ba4e43290e.jpg -> Annotation:C:\\Users\\ralha\\OneDrive\\Desktop\\IIITB\\TFOD\\TFODCourse\\Tensorflow\\workspace\\images\\collectedimages\\thumbsdown\\thumbsdown.8bfe32dc-a8f7-11eb-af6d-48ba4e43290e.xml\n",
      "Image:C:\\Users\\ralha\\OneDrive\\Desktop\\IIITB\\TFOD\\TFODCourse\\Tensorflow\\workspace\\images\\collectedimages\\thumbsdown\\thumbsdown.8e6bf8e4-a8f7-11eb-8efa-48ba4e43290e.jpg -> Annotation:C:/Users/ralha/OneDrive/Desktop/IIITB/TFOD/TFODCourse/Tensorflow/workspace/images/collectedimages/thumbsdown/thumbsdown.8e6bf8e4-a8f7-11eb-8efa-48ba4e43290e.xml\n",
      "Image:C:\\Users\\ralha\\OneDrive\\Desktop\\IIITB\\TFOD\\TFODCourse\\Tensorflow\\workspace\\images\\collectedimages\\thumbsdown\\thumbsdown.8e6bf8e4-a8f7-11eb-8efa-48ba4e43290e.jpg -> Annotation:C:\\Users\\ralha\\OneDrive\\Desktop\\IIITB\\TFOD\\TFODCourse\\Tensorflow\\workspace\\images\\collectedimages\\thumbsdown\\thumbsdown.8e6bf8e4-a8f7-11eb-8efa-48ba4e43290e.xml\n",
      "Image:C:\\Users\\ralha\\OneDrive\\Desktop\\IIITB\\TFOD\\TFODCourse\\Tensorflow\\workspace\\images\\collectedimages\\thumbsdown\\thumbsdown.8fa40028-a8f7-11eb-a258-48ba4e43290e.jpg -> Annotation:C:/Users/ralha/OneDrive/Desktop/IIITB/TFOD/TFODCourse/Tensorflow/workspace/images/collectedimages/thumbsdown/thumbsdown.8fa40028-a8f7-11eb-a258-48ba4e43290e.xml\n",
      "Image:C:\\Users\\ralha\\OneDrive\\Desktop\\IIITB\\TFOD\\TFODCourse\\Tensorflow\\workspace\\images\\collectedimages\\thumbsdown\\thumbsdown.8fa40028-a8f7-11eb-a258-48ba4e43290e.jpg -> Annotation:C:\\Users\\ralha\\OneDrive\\Desktop\\IIITB\\TFOD\\TFODCourse\\Tensorflow\\workspace\\images\\collectedimages\\thumbsdown\\thumbsdown.8fa40028-a8f7-11eb-a258-48ba4e43290e.xml\n",
      "Image:C:\\Users\\ralha\\OneDrive\\Desktop\\IIITB\\TFOD\\TFODCourse\\Tensorflow\\workspace\\images\\collectedimages\\thumbsdown\\thumbsdown.33d98492-a8f6-11eb-9019-48ba4e43290e.jpg -> Annotation:C:/Users/ralha/OneDrive/Desktop/IIITB/TFOD/TFODCourse/Tensorflow/workspace/images/collectedimages/thumbsdown/thumbsdown.33d98492-a8f6-11eb-9019-48ba4e43290e.xml\n",
      "Image:C:\\Users\\ralha\\OneDrive\\Desktop\\IIITB\\TFOD\\TFODCourse\\Tensorflow\\workspace\\images\\collectedimages\\thumbsdown\\thumbsdown.33d98492-a8f6-11eb-9019-48ba4e43290e.jpg -> Annotation:C:\\Users\\ralha\\OneDrive\\Desktop\\IIITB\\TFOD\\TFODCourse\\Tensorflow\\workspace\\images\\collectedimages\\thumbsdown\\thumbsdown.33d98492-a8f6-11eb-9019-48ba4e43290e.xml\n",
      "Image:C:\\Users\\ralha\\OneDrive\\Desktop\\IIITB\\TFOD\\TFODCourse\\Tensorflow\\workspace\\images\\collectedimages\\thumbsdown\\thumbsdown.38b4fe40-a8f6-11eb-8d0e-48ba4e43290e.jpg -> Annotation:C:/Users/ralha/OneDrive/Desktop/IIITB/TFOD/TFODCourse/Tensorflow/workspace/images/collectedimages/thumbsdown/thumbsdown.38b4fe40-a8f6-11eb-8d0e-48ba4e43290e.xml\n",
      "Image:C:\\Users\\ralha\\OneDrive\\Desktop\\IIITB\\TFOD\\TFODCourse\\Tensorflow\\workspace\\images\\collectedimages\\thumbsdown\\thumbsdown.38b4fe40-a8f6-11eb-8d0e-48ba4e43290e.jpg -> Annotation:C:\\Users\\ralha\\OneDrive\\Desktop\\IIITB\\TFOD\\TFODCourse\\Tensorflow\\workspace\\images\\collectedimages\\thumbsdown\\thumbsdown.38b4fe40-a8f6-11eb-8d0e-48ba4e43290e.xml\n",
      "Image:C:\\Users\\ralha\\OneDrive\\Desktop\\IIITB\\TFOD\\TFODCourse\\Tensorflow\\workspace\\images\\collectedimages\\thumbsdown\\thumbsdown.377ed0e8-a8f6-11eb-8614-48ba4e43290e.jpg -> Annotation:C:/Users/ralha/OneDrive/Desktop/IIITB/TFOD/TFODCourse/Tensorflow/workspace/images/collectedimages/thumbsdown/thumbsdown.377ed0e8-a8f6-11eb-8614-48ba4e43290e.xml\n",
      "Image:C:\\Users\\ralha\\OneDrive\\Desktop\\IIITB\\TFOD\\TFODCourse\\Tensorflow\\workspace\\images\\collectedimages\\thumbsdown\\thumbsdown.377ed0e8-a8f6-11eb-8614-48ba4e43290e.jpg -> Annotation:C:\\Users\\ralha\\OneDrive\\Desktop\\IIITB\\TFOD\\TFODCourse\\Tensorflow\\workspace\\images\\collectedimages\\thumbsdown\\thumbsdown.377ed0e8-a8f6-11eb-8614-48ba4e43290e.xml\n",
      "Image:C:\\Users\\ralha\\OneDrive\\Desktop\\IIITB\\TFOD\\TFODCourse\\Tensorflow\\workspace\\images\\collectedimages\\thumbsdown\\thumbsdown.483b9dcc-a8f7-11eb-8098-48ba4e43290e.jpg -> Annotation:C:/Users/ralha/OneDrive/Desktop/IIITB/TFOD/TFODCourse/Tensorflow/workspace/images/collectedimages/thumbsdown/thumbsdown.483b9dcc-a8f7-11eb-8098-48ba4e43290e.xml\n",
      "Image:C:\\Users\\ralha\\OneDrive\\Desktop\\IIITB\\TFOD\\TFODCourse\\Tensorflow\\workspace\\images\\collectedimages\\thumbsdown\\thumbsdown.483b9dcc-a8f7-11eb-8098-48ba4e43290e.jpg -> Annotation:C:/Users/ralha/OneDrive/Desktop/IIITB/TFOD/TFODCourse/Tensorflow/workspace/images/collectedimages/thumbsdown/thumbsdown.483b9dcc-a8f7-11eb-8098-48ba4e43290e.xml\n",
      "Image:C:\\Users\\ralha\\OneDrive\\Desktop\\IIITB\\TFOD\\TFODCourse\\Tensorflow\\workspace\\images\\collectedimages\\thumbsdown\\thumbsdown.483b9dcc-a8f7-11eb-8098-48ba4e43290e.jpg -> Annotation:C:\\Users\\ralha\\OneDrive\\Desktop\\IIITB\\TFOD\\TFODCourse\\Tensorflow\\workspace\\images\\collectedimages\\thumbsdown\\thumbsdown.483b9dcc-a8f7-11eb-8098-48ba4e43290e.xml\n",
      "Image:C:\\Users\\ralha\\OneDrive\\Desktop\\IIITB\\TFOD\\TFODCourse\\Tensorflow\\workspace\\images\\collectedimages\\thumbsdown\\thumbsdown.483b9dcc-a8f7-11eb-8098-48ba4e43290e.jpg -> Annotation:C:\\Users\\ralha\\OneDrive\\Desktop\\IIITB\\TFOD\\TFODCourse\\Tensorflow\\workspace\\images\\collectedimages\\thumbsdown\\thumbsdown.483b9dcc-a8f7-11eb-8098-48ba4e43290e.xml\n",
      "Image:C:\\Users\\ralha\\OneDrive\\Desktop\\IIITB\\TFOD\\TFODCourse\\Tensorflow\\workspace\\images\\collectedimages\\thumbsdown\\thumbsdown.483b9dcc-a8f7-11eb-8098-48ba4e43290e.jpg -> Annotation:C:\\Users\\ralha\\OneDrive\\Desktop\\IIITB\\TFOD\\TFODCourse\\Tensorflow\\workspace\\images\\collectedimages\\thumbsdown\\thumbsdown.483b9dcc-a8f7-11eb-8098-48ba4e43290e.xml\n",
      "Image:C:\\Users\\ralha\\OneDrive\\Desktop\\IIITB\\TFOD\\TFODCourse\\Tensorflow\\workspace\\images\\collectedimages\\thumbsdown\\thumbsdown.4975ee18-a8f7-11eb-a40a-48ba4e43290e.jpg -> Annotation:C:/Users/ralha/OneDrive/Desktop/IIITB/TFOD/TFODCourse/Tensorflow/workspace/images/collectedimages/thumbsdown/thumbsdown.4975ee18-a8f7-11eb-a40a-48ba4e43290e.xml\n",
      "Image:C:\\Users\\ralha\\OneDrive\\Desktop\\IIITB\\TFOD\\TFODCourse\\Tensorflow\\workspace\\images\\collectedimages\\thumbsdown\\thumbsdown.4975ee18-a8f7-11eb-a40a-48ba4e43290e.jpg -> Annotation:C:\\Users\\ralha\\OneDrive\\Desktop\\IIITB\\TFOD\\TFODCourse\\Tensorflow\\workspace\\images\\collectedimages\\thumbsdown\\thumbsdown.4975ee18-a8f7-11eb-a40a-48ba4e43290e.xml\n",
      "Image:C:\\Users\\ralha\\OneDrive\\Desktop\\IIITB\\TFOD\\TFODCourse\\Tensorflow\\workspace\\images\\collectedimages\\thumbsdown\\thumbsdown.35147d42-a8f6-11eb-8373-48ba4e43290e.jpg -> Annotation:C:/Users/ralha/OneDrive/Desktop/IIITB/TFOD/TFODCourse/Tensorflow/workspace/images/collectedimages/thumbsdown/thumbsdown.35147d42-a8f6-11eb-8373-48ba4e43290e.xml\n",
      "Image:C:\\Users\\ralha\\OneDrive\\Desktop\\IIITB\\TFOD\\TFODCourse\\Tensorflow\\workspace\\images\\collectedimages\\thumbsdown\\thumbsdown.35147d42-a8f6-11eb-8373-48ba4e43290e.jpg -> Annotation:C:\\Users\\ralha\\OneDrive\\Desktop\\IIITB\\TFOD\\TFODCourse\\Tensorflow\\workspace\\images\\collectedimages\\thumbsdown\\thumbsdown.35147d42-a8f6-11eb-8373-48ba4e43290e.xml\n",
      "Image:C:\\Users\\ralha\\OneDrive\\Desktop\\IIITB\\TFOD\\TFODCourse\\Tensorflow\\workspace\\images\\collectedimages\\thumbsdown\\thumbsdown.36496f8c-a8f6-11eb-9595-48ba4e43290e.jpg -> Annotation:C:/Users/ralha/OneDrive/Desktop/IIITB/TFOD/TFODCourse/Tensorflow/workspace/images/collectedimages/thumbsdown/thumbsdown.36496f8c-a8f6-11eb-9595-48ba4e43290e.xml\n",
      "Image:C:\\Users\\ralha\\OneDrive\\Desktop\\IIITB\\TFOD\\TFODCourse\\Tensorflow\\workspace\\images\\collectedimages\\thumbsdown\\thumbsdown.36496f8c-a8f6-11eb-9595-48ba4e43290e.jpg -> Annotation:C:\\Users\\ralha\\OneDrive\\Desktop\\IIITB\\TFOD\\TFODCourse\\Tensorflow\\workspace\\images\\collectedimages\\thumbsdown\\thumbsdown.36496f8c-a8f6-11eb-9595-48ba4e43290e.xml\n",
      "Image:C:\\Users\\ralha\\OneDrive\\Desktop\\IIITB\\TFOD\\TFODCourse\\Tensorflow\\workspace\\images\\collectedimages\\thumbsup\\thumbsup.3dc824f0-a8f7-11eb-8888-48ba4e43290e.jpg -> Annotation:C:/Users/ralha/OneDrive/Desktop/IIITB/TFOD/TFODCourse/Tensorflow/workspace/images/collectedimages/thumbsup/thumbsup.3dc824f0-a8f7-11eb-8888-48ba4e43290e.xml\n",
      "Image:C:\\Users\\ralha\\OneDrive\\Desktop\\IIITB\\TFOD\\TFODCourse\\Tensorflow\\workspace\\images\\collectedimages\\thumbsup\\thumbsup.3dc824f0-a8f7-11eb-8888-48ba4e43290e.jpg -> Annotation:C:\\Users\\ralha\\OneDrive\\Desktop\\IIITB\\TFOD\\TFODCourse\\Tensorflow\\workspace\\images\\collectedimages\\thumbsup\\thumbsup.3dc824f0-a8f7-11eb-8888-48ba4e43290e.xml\n",
      "Image:C:\\Users\\ralha\\OneDrive\\Desktop\\IIITB\\TFOD\\TFODCourse\\Tensorflow\\workspace\\images\\collectedimages\\thumbsup\\thumbsup.28ac945c-a8f6-11eb-be7e-48ba4e43290e.jpg -> Annotation:C:/Users/ralha/OneDrive/Desktop/IIITB/TFOD/TFODCourse/Tensorflow/workspace/images/collectedimages/thumbsup/thumbsup.28ac945c-a8f6-11eb-be7e-48ba4e43290e.xml\n",
      "Image:C:\\Users\\ralha\\OneDrive\\Desktop\\IIITB\\TFOD\\TFODCourse\\Tensorflow\\workspace\\images\\collectedimages\\thumbsup\\thumbsup.28ac945c-a8f6-11eb-be7e-48ba4e43290e.jpg -> Annotation:C:\\Users\\ralha\\OneDrive\\Desktop\\IIITB\\TFOD\\TFODCourse\\Tensorflow\\workspace\\images\\collectedimages\\thumbsup\\thumbsup.28ac945c-a8f6-11eb-be7e-48ba4e43290e.xml\n",
      "Image:C:\\Users\\ralha\\OneDrive\\Desktop\\IIITB\\TFOD\\TFODCourse\\Tensorflow\\workspace\\images\\collectedimages\\thumbsup\\thumbsup.29e4140a-a8f6-11eb-8509-48ba4e43290e.jpg -> Annotation:C:/Users/ralha/OneDrive/Desktop/IIITB/TFOD/TFODCourse/Tensorflow/workspace/images/collectedimages/thumbsup/thumbsup.29e4140a-a8f6-11eb-8509-48ba4e43290e.xml\n",
      "Image:C:\\Users\\ralha\\OneDrive\\Desktop\\IIITB\\TFOD\\TFODCourse\\Tensorflow\\workspace\\images\\collectedimages\\thumbsup\\thumbsup.29e4140a-a8f6-11eb-8509-48ba4e43290e.jpg -> Annotation:C:\\Users\\ralha\\OneDrive\\Desktop\\IIITB\\TFOD\\TFODCourse\\Tensorflow\\workspace\\images\\collectedimages\\thumbsup\\thumbsup.29e4140a-a8f6-11eb-8509-48ba4e43290e.xml\n",
      "Image:C:\\Users\\ralha\\OneDrive\\Desktop\\IIITB\\TFOD\\TFODCourse\\Tensorflow\\workspace\\images\\collectedimages\\thumbsup\\thumbsup.42afec88-a8f7-11eb-9058-48ba4e43290e.jpg -> Annotation:C:/Users/ralha/OneDrive/Desktop/IIITB/TFOD/TFODCourse/Tensorflow/workspace/images/collectedimages/thumbsup/thumbsup.42afec88-a8f7-11eb-9058-48ba4e43290e.xml\n",
      "Image:C:\\Users\\ralha\\OneDrive\\Desktop\\IIITB\\TFOD\\TFODCourse\\Tensorflow\\workspace\\images\\collectedimages\\thumbsup\\thumbsup.42afec88-a8f7-11eb-9058-48ba4e43290e.jpg -> Annotation:C:\\Users\\ralha\\OneDrive\\Desktop\\IIITB\\TFOD\\TFODCourse\\Tensorflow\\workspace\\images\\collectedimages\\thumbsup\\thumbsup.42afec88-a8f7-11eb-9058-48ba4e43290e.xml\n",
      "Image:C:\\Users\\ralha\\OneDrive\\Desktop\\IIITB\\TFOD\\TFODCourse\\Tensorflow\\workspace\\images\\collectedimages\\thumbsup\\thumbsup.82c293f8-a8f7-11eb-8892-48ba4e43290e.jpg -> Annotation:C:/Users/ralha/OneDrive/Desktop/IIITB/TFOD/TFODCourse/Tensorflow/workspace/images/collectedimages/thumbsup/thumbsup.82c293f8-a8f7-11eb-8892-48ba4e43290e.xml\n",
      "Image:C:\\Users\\ralha\\OneDrive\\Desktop\\IIITB\\TFOD\\TFODCourse\\Tensorflow\\workspace\\images\\collectedimages\\thumbsup\\thumbsup.82c293f8-a8f7-11eb-8892-48ba4e43290e.jpg -> Annotation:C:\\Users\\ralha\\OneDrive\\Desktop\\IIITB\\TFOD\\TFODCourse\\Tensorflow\\workspace\\images\\collectedimages\\thumbsup\\thumbsup.82c293f8-a8f7-11eb-8892-48ba4e43290e.xml\n",
      "Image:C:\\Users\\ralha\\OneDrive\\Desktop\\IIITB\\TFOD\\TFODCourse\\Tensorflow\\workspace\\images\\collectedimages\\thumbsup\\thumbsup.83f8d48c-a8f7-11eb-86dc-48ba4e43290e.jpg -> Annotation:C:/Users/ralha/OneDrive/Desktop/IIITB/TFOD/TFODCourse/Tensorflow/workspace/images/collectedimages/thumbsup/thumbsup.83f8d48c-a8f7-11eb-86dc-48ba4e43290e.xml\n",
      "Image:C:\\Users\\ralha\\OneDrive\\Desktop\\IIITB\\TFOD\\TFODCourse\\Tensorflow\\workspace\\images\\collectedimages\\thumbsup\\thumbsup.83f8d48c-a8f7-11eb-86dc-48ba4e43290e.jpg -> Annotation:C:\\Users\\ralha\\OneDrive\\Desktop\\IIITB\\TFOD\\TFODCourse\\Tensorflow\\workspace\\images\\collectedimages\\thumbsup\\thumbsup.83f8d48c-a8f7-11eb-86dc-48ba4e43290e.xml\n",
      "Image:C:\\Users\\ralha\\OneDrive\\Desktop\\IIITB\\TFOD\\TFODCourse\\Tensorflow\\workspace\\images\\collectedimages\\thumbsup\\thumbsup.262f07e4-a8f6-11eb-afa4-48ba4e43290e.jpg -> Annotation:C:/Users/ralha/OneDrive/Desktop/IIITB/TFOD/TFODCourse/Tensorflow/workspace/images/collectedimages/thumbsup/thumbsup.262f07e4-a8f6-11eb-afa4-48ba4e43290e.xml\n",
      "Image:C:\\Users\\ralha\\OneDrive\\Desktop\\IIITB\\TFOD\\TFODCourse\\Tensorflow\\workspace\\images\\collectedimages\\thumbsup\\thumbsup.262f07e4-a8f6-11eb-afa4-48ba4e43290e.jpg -> Annotation:C:\\Users\\ralha\\OneDrive\\Desktop\\IIITB\\TFOD\\TFODCourse\\Tensorflow\\workspace\\images\\collectedimages\\thumbsup\\thumbsup.262f07e4-a8f6-11eb-afa4-48ba4e43290e.xml\n",
      "Image:C:\\Users\\ralha\\OneDrive\\Desktop\\IIITB\\TFOD\\TFODCourse\\Tensorflow\\workspace\\images\\collectedimages\\thumbsup\\thumbsup.417a2aa8-a8f7-11eb-b0d2-48ba4e43290e.jpg -> Annotation:C:/Users/ralha/OneDrive/Desktop/IIITB/TFOD/TFODCourse/Tensorflow/workspace/images/collectedimages/thumbsup/thumbsup.417a2aa8-a8f7-11eb-b0d2-48ba4e43290e.xml\n",
      "Image:C:\\Users\\ralha\\OneDrive\\Desktop\\IIITB\\TFOD\\TFODCourse\\Tensorflow\\workspace\\images\\collectedimages\\thumbsup\\thumbsup.417a2aa8-a8f7-11eb-b0d2-48ba4e43290e.jpg -> Annotation:C:\\Users\\ralha\\OneDrive\\Desktop\\IIITB\\TFOD\\TFODCourse\\Tensorflow\\workspace\\images\\collectedimages\\thumbsup\\thumbsup.417a2aa8-a8f7-11eb-b0d2-48ba4e43290e.xml\n",
      "Image:C:\\Users\\ralha\\OneDrive\\Desktop\\IIITB\\TFOD\\TFODCourse\\Tensorflow\\workspace\\images\\collectedimages\\thumbsup\\thumbsup.417a2aa8-a8f7-11eb-b0d2-48ba4e43290e.jpg -> Annotation:C:\\Users\\ralha\\OneDrive\\Desktop\\IIITB\\TFOD\\TFODCourse\\Tensorflow\\workspace\\images\\collectedimages\\thumbsup\\thumbsup.417a2aa8-a8f7-11eb-b0d2-48ba4e43290e.xml\n",
      "Image:C:\\Users\\ralha\\OneDrive\\Desktop\\IIITB\\TFOD\\TFODCourse\\Tensorflow\\workspace\\images\\collectedimages\\thumbsup\\thumbsup.417a2aa8-a8f7-11eb-b0d2-48ba4e43290e.jpg -> Annotation:C:\\Users\\ralha\\OneDrive\\Desktop\\IIITB\\TFOD\\TFODCourse\\Tensorflow\\workspace\\images\\collectedimages\\thumbsup\\thumbsup.417a2aa8-a8f7-11eb-b0d2-48ba4e43290e.xml\n",
      "Image:C:\\Users\\ralha\\OneDrive\\Desktop\\IIITB\\TFOD\\TFODCourse\\Tensorflow\\workspace\\images\\collectedimages\\thumbsup\\thumbsup.818d4f92-a8f7-11eb-bfd0-48ba4e43290e.jpg -> Annotation:C:/Users/ralha/OneDrive/Desktop/IIITB/TFOD/TFODCourse/Tensorflow/workspace/images/collectedimages/thumbsup/thumbsup.818d4f92-a8f7-11eb-bfd0-48ba4e43290e.xml\n",
      "Image:C:\\Users\\ralha\\OneDrive\\Desktop\\IIITB\\TFOD\\TFODCourse\\Tensorflow\\workspace\\images\\collectedimages\\thumbsup\\thumbsup.818d4f92-a8f7-11eb-bfd0-48ba4e43290e.jpg -> Annotation:C:\\Users\\ralha\\OneDrive\\Desktop\\IIITB\\TFOD\\TFODCourse\\Tensorflow\\workspace\\images\\collectedimages\\thumbsup\\thumbsup.818d4f92-a8f7-11eb-bfd0-48ba4e43290e.xml\n",
      "Cancel creation.\n",
      "Image:C:\\Users\\ralha\\OneDrive\\Desktop\\IIITB\\TFOD\\TFODCourse\\Tensorflow\\workspace\\images\\collectedimages\\thumbsup\\thumbsup.852e6434-a8f7-11eb-bba2-48ba4e43290e.jpg -> Annotation:C:/Users/ralha/OneDrive/Desktop/IIITB/TFOD/TFODCourse/Tensorflow/workspace/images/collectedimages/thumbsup/thumbsup.852e6434-a8f7-11eb-bba2-48ba4e43290e.xml\n",
      "Image:C:\\Users\\ralha\\OneDrive\\Desktop\\IIITB\\TFOD\\TFODCourse\\Tensorflow\\workspace\\images\\collectedimages\\thumbsup\\thumbsup.852e6434-a8f7-11eb-bba2-48ba4e43290e.jpg -> Annotation:C:\\Users\\ralha\\OneDrive\\Desktop\\IIITB\\TFOD\\TFODCourse\\Tensorflow\\workspace\\images\\collectedimages\\thumbsup\\thumbsup.852e6434-a8f7-11eb-bba2-48ba4e43290e.xml\n",
      "Image:C:\\Users\\ralha\\OneDrive\\Desktop\\IIITB\\TFOD\\TFODCourse\\Tensorflow\\workspace\\images\\collectedimages\\thumbsup\\thumbsup.2773c9a8-a8f6-11eb-a896-48ba4e43290e.jpg -> Annotation:C:/Users/ralha/OneDrive/Desktop/IIITB/TFOD/TFODCourse/Tensorflow/workspace/images/collectedimages/thumbsup/thumbsup.2773c9a8-a8f6-11eb-a896-48ba4e43290e.xml\n",
      "Image:C:\\Users\\ralha\\OneDrive\\Desktop\\IIITB\\TFOD\\TFODCourse\\Tensorflow\\workspace\\images\\collectedimages\\thumbsup\\thumbsup.2773c9a8-a8f6-11eb-a896-48ba4e43290e.jpg -> Annotation:C:\\Users\\ralha\\OneDrive\\Desktop\\IIITB\\TFOD\\TFODCourse\\Tensorflow\\workspace\\images\\collectedimages\\thumbsup\\thumbsup.2773c9a8-a8f6-11eb-a896-48ba4e43290e.xml\n",
      "Image:C:\\Users\\ralha\\OneDrive\\Desktop\\IIITB\\TFOD\\TFODCourse\\Tensorflow\\workspace\\images\\collectedimages\\thumbsup\\thumbsup.8046028c-a8f7-11eb-a491-48ba4e43290e.jpg -> Annotation:C:/Users/ralha/OneDrive/Desktop/IIITB/TFOD/TFODCourse/Tensorflow/workspace/images/collectedimages/thumbsup/thumbsup.8046028c-a8f7-11eb-a491-48ba4e43290e.xml\n",
      "Image:C:\\Users\\ralha\\OneDrive\\Desktop\\IIITB\\TFOD\\TFODCourse\\Tensorflow\\workspace\\images\\collectedimages\\thumbsup\\thumbsup.8046028c-a8f7-11eb-a491-48ba4e43290e.jpg -> Annotation:C:\\Users\\ralha\\OneDrive\\Desktop\\IIITB\\TFOD\\TFODCourse\\Tensorflow\\workspace\\images\\collectedimages\\thumbsup\\thumbsup.8046028c-a8f7-11eb-a491-48ba4e43290e.xml\n",
      "Image:C:\\Users\\ralha\\OneDrive\\Desktop\\IIITB\\TFOD\\TFODCourse\\Tensorflow\\workspace\\images\\collectedimages\\thumbsup\\thumbsup.40445578-a8f7-11eb-9a4e-48ba4e43290e.jpg -> Annotation:C:/Users/ralha/OneDrive/Desktop/IIITB/TFOD/TFODCourse/Tensorflow/workspace/images/collectedimages/thumbsup/thumbsup.40445578-a8f7-11eb-9a4e-48ba4e43290e.xml\n",
      "Image:C:\\Users\\ralha\\OneDrive\\Desktop\\IIITB\\TFOD\\TFODCourse\\Tensorflow\\workspace\\images\\collectedimages\\thumbsup\\thumbsup.40445578-a8f7-11eb-9a4e-48ba4e43290e.jpg -> Annotation:C:\\Users\\ralha\\OneDrive\\Desktop\\IIITB\\TFOD\\TFODCourse\\Tensorflow\\workspace\\images\\collectedimages\\thumbsup\\thumbsup.40445578-a8f7-11eb-9a4e-48ba4e43290e.xml\n"
     ]
    }
   ],
   "source": [
    "!cd {LABELIMG_PATH} && python labelImg.py"
   ]
  },
  {
   "cell_type": "markdown",
   "metadata": {},
   "source": [
    "# Move them into a Training and Testing Partition"
   ]
  },
  {
   "cell_type": "markdown",
   "metadata": {},
   "source": [
    "# OPTIONAL - 7. Compress them for Colab Training"
   ]
  },
  {
   "cell_type": "code",
   "execution_count": 20,
   "metadata": {},
   "outputs": [],
   "source": [
    "TRAIN_PATH = os.path.join('Tensorflow', 'workspace', 'images', 'train')\n",
    "TEST_PATH = os.path.join('Tensorflow', 'workspace', 'images', 'test')\n",
    "ARCHIVE_PATH = os.path.join('Tensorflow', 'workspace', 'images', 'archive.tar.gz')"
   ]
  },
  {
   "cell_type": "code",
   "execution_count": 21,
   "metadata": {},
   "outputs": [],
   "source": [
    "!tar -czf {ARCHIVE_PATH} {TRAIN_PATH} {TEST_PATH}"
   ]
  },
  {
   "cell_type": "code",
   "execution_count": null,
   "metadata": {},
   "outputs": [],
   "source": []
  }
 ],
 "metadata": {
  "kernelspec": {
   "display_name": "env",
   "language": "python",
   "name": "env"
  },
  "language_info": {
   "codemirror_mode": {
    "name": "ipython",
    "version": 3
   },
   "file_extension": ".py",
   "mimetype": "text/x-python",
   "name": "python",
   "nbconvert_exporter": "python",
   "pygments_lexer": "ipython3",
   "version": "3.7.7"
  }
 },
 "nbformat": 4,
 "nbformat_minor": 2
}
